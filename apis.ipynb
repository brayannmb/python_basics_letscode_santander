{
 "cells": [
  {
   "cell_type": "markdown",
   "id": "ed1e6603",
   "metadata": {},
   "source": [
    "# API´s"
   ]
  },
  {
   "cell_type": "code",
   "execution_count": 16,
   "id": "2f90dbfe",
   "metadata": {},
   "outputs": [],
   "source": [
    "!pip install requests -q"
   ]
  },
  {
   "cell_type": "code",
   "execution_count": 1,
   "id": "2f4e6600",
   "metadata": {},
   "outputs": [],
   "source": [
    "import requests"
   ]
  },
  {
   "cell_type": "code",
   "execution_count": 2,
   "id": "b7425e9b",
   "metadata": {},
   "outputs": [
    {
     "name": "stdout",
     "output_type": "stream",
     "text": [
      "200\n"
     ]
    }
   ],
   "source": [
    "url = 'https://v6.exchangerate-api.com/v6/b30b64c2ef47f0501db155aa/latest/USD'\n",
    "\n",
    "req = requests.get(url)\n",
    "\n",
    "print(req.status_code)"
   ]
  },
  {
   "cell_type": "code",
   "execution_count": 4,
   "id": "1230bcff",
   "metadata": {},
   "outputs": [
    {
     "name": "stdout",
     "output_type": "stream",
     "text": [
      "{'result': 'success', 'documentation': 'https://www.exchangerate-api.com/docs', 'terms_of_use': 'https://www.exchangerate-api.com/terms', 'time_last_update_unix': 1625702401, 'time_last_update_utc': 'Thu, 08 Jul 2021 00:00:01 +0000', 'time_next_update_unix': 1625788801, 'time_next_update_utc': 'Fri, 09 Jul 2021 00:00:01 +0000', 'base_code': 'USD', 'conversion_rates': {'USD': 1, 'AED': 3.6725, 'AFN': 80.6707, 'ALL': 103.5217, 'AMD': 496.1734, 'ANG': 1.79, 'AOA': 648.0774, 'ARS': 95.9046, 'AUD': 1.3323, 'AWG': 1.79, 'AZN': 1.6975, 'BAM': 1.652, 'BBD': 2.0, 'BDT': 84.7152, 'BGN': 1.6524, 'BHD': 0.376, 'BIF': 1972.1894, 'BMD': 1.0, 'BND': 1.3466, 'BOB': 6.8855, 'BRL': 5.1926, 'BSD': 1.0, 'BTN': 74.6782, 'BWP': 10.9768, 'BYN': 2.5479, 'BZD': 2.0, 'CAD': 1.2432, 'CDF': 1985.2812, 'CHF': 0.9244, 'CLP': 746.4544, 'CNY': 6.4691, 'COP': 3776.6246, 'CRC': 619.0638, 'CUC': 1.0, 'CUP': 25.75, 'CVE': 93.1371, 'CZK': 21.8005, 'DJF': 177.721, 'DKK': 6.3015, 'DOP': 56.9438, 'DZD': 134.5184, 'EGP': 15.6844, 'ERN': 15.0, 'ETB': 43.8587, 'EUR': 0.8448, 'FJD': 2.068, 'FKP': 0.7232, 'FOK': 6.3015, 'GBP': 0.7232, 'GEL': 3.1387, 'GGP': 0.7232, 'GHS': 5.9225, 'GIP': 0.7232, 'GMD': 51.8439, 'GNF': 9809.0246, 'GTQ': 7.7351, 'GYD': 208.6912, 'HKD': 7.767, 'HNL': 23.827, 'HRK': 6.3641, 'HTG': 93.5234, 'HUF': 301.6388, 'IDR': 14545.7631, 'ILS': 3.2834, 'IMP': 0.7232, 'INR': 74.6786, 'IQD': 1456.9342, 'IRR': 41893.1525, 'ISK': 123.8017, 'JMD': 149.9698, 'JOD': 0.709, 'JPY': 110.6338, 'KES': 107.8448, 'KGS': 84.6294, 'KHR': 4067.9217, 'KID': 1.3323, 'KMF': 415.5484, 'KRW': 1138.2112, 'KWD': 0.2996, 'KYD': 0.8333, 'KZT': 427.3825, 'LAK': 9474.3593, 'LBP': 1507.5, 'LKR': 198.7056, 'LRD': 171.2155, 'LSL': 14.3046, 'LYD': 4.5002, 'MAD': 8.94, 'MDL': 18.0369, 'MGA': 3862.0523, 'MKD': 52.0647, 'MMK': 1644.2033, 'MNT': 2841.1843, 'MOP': 8.0, 'MRU': 36.0994, 'MUR': 42.9458, 'MVR': 15.4406, 'MWK': 807.263, 'MXN': 19.9645, 'MYR': 4.1587, 'MZN': 63.5704, 'NAD': 14.3046, 'NGN': 422.3154, 'NIO': 34.965, 'NOK': 8.6971, 'NPR': 119.4852, 'NZD': 1.4236, 'OMR': 0.3845, 'PAB': 1.0, 'PEN': 3.951, 'PGK': 3.5091, 'PHP': 49.8505, 'PKR': 158.6859, 'PLN': 3.8317, 'PYG': 6774.923, 'QAR': 3.64, 'RON': 4.167, 'RSD': 99.3886, 'RUB': 74.4211, 'RWF': 1004.7681, 'SAR': 3.75, 'SBD': 7.9539, 'SCR': 14.3403, 'SDG': 448.9071, 'SEK': 8.6084, 'SGD': 1.3466, 'SHP': 0.7232, 'SLL': 10257.2864, 'SOS': 577.6129, 'SRD': 20.977, 'SSP': 177.58, 'STN': 20.6943, 'SYP': 1628.2467, 'SZL': 14.3046, 'THB': 32.3161, 'TJS': 11.3431, 'TMT': 3.4957, 'TND': 2.7737, 'TOP': 2.2366, 'TRY': 8.6823, 'TTD': 6.7646, 'TVD': 1.3323, 'TWD': 27.977, 'TZS': 2315.4334, 'UAH': 27.2551, 'UGX': 3553.9544, 'UYU': 43.7127, 'UZS': 10566.4038, 'VES': 3240458.8656, 'VND': 22996.6832, 'VUV': 110.2242, 'WST': 2.5476, 'XAF': 554.0645, 'XCD': 2.7, 'XDR': 0.7026, 'XOF': 554.0645, 'XPF': 100.7957, 'YER': 250.3234, 'ZAR': 14.3047, 'ZMW': 22.6248}}\n"
     ]
    }
   ],
   "source": [
    "dados = req.json()\n",
    "\n",
    "print(dados)"
   ]
  },
  {
   "cell_type": "code",
   "execution_count": 12,
   "id": "6022bfc9",
   "metadata": {},
   "outputs": [
    {
     "name": "stdout",
     "output_type": "stream",
     "text": [
      "Digite o valor em reais500\n",
      "A conversão de 500, equivale a : 96.29 em dolar\n"
     ]
    }
   ],
   "source": [
    "valor_reais = int(input(\"Digite o valor em reais: \"))\n",
    "dolar = dados['conversion_rates']['BRL']\n",
    "print(f'A conversão de {valor_reais}, equivale a : {(valor_reais / dolar):.2f} em dolar')"
   ]
  },
  {
   "cell_type": "code",
   "execution_count": null,
   "id": "567ef0ba",
   "metadata": {},
   "outputs": [],
   "source": []
  }
 ],
 "metadata": {
  "kernelspec": {
   "display_name": "Python 3 (ipykernel)",
   "language": "python",
   "name": "python3"
  },
  "language_info": {
   "codemirror_mode": {
    "name": "ipython",
    "version": 3
   },
   "file_extension": ".py",
   "mimetype": "text/x-python",
   "name": "python",
   "nbconvert_exporter": "python",
   "pygments_lexer": "ipython3",
   "version": "3.8.2"
  }
 },
 "nbformat": 4,
 "nbformat_minor": 5
}
