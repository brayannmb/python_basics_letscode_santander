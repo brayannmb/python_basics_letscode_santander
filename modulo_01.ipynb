{
  "nbformat": 4,
  "nbformat_minor": 0,
  "metadata": {
    "colab": {
      "name": "modulo_01.ipynb",
      "provenance": [],
      "authorship_tag": "ABX9TyN3XZCtfe2tnj5kDgEY98Q7",
      "include_colab_link": true
    },
    "kernelspec": {
      "name": "python3",
      "display_name": "Python 3"
    },
    "language_info": {
      "name": "python"
    }
  },
  "cells": [
    {
      "cell_type": "markdown",
      "metadata": {
        "id": "view-in-github",
        "colab_type": "text"
      },
      "source": [
        "<a href=\"https://colab.research.google.com/github/brayannmb/python_basics_letscode_santander/blob/main/modulo_01.ipynb\" target=\"_parent\"><img src=\"https://colab.research.google.com/assets/colab-badge.svg\" alt=\"Open In Colab\"/></a>"
      ]
    },
    {
      "cell_type": "markdown",
      "metadata": {
        "id": "iS7KBom6O0jI"
      },
      "source": [
        "# **Módulo 01 - Santander Coders - Let´s Code - Data Science**"
      ]
    },
    {
      "cell_type": "markdown",
      "metadata": {
        "id": "MMBlRyMrQGWl"
      },
      "source": [
        "##**Estrutura de Repetição While**\n",
        "\n",
        "A estrutura de repetição while executa uma ou mais tarefas até que uma enquanto uma condição é atendida. Quando a condição não for mais atendida, o programa sai do looping e continua executando o restante do código. "
      ]
    },
    {
      "cell_type": "code",
      "metadata": {
        "colab": {
          "base_uri": "https://localhost:8080/"
        },
        "id": "va0petdEQO1G",
        "outputId": "0a84bbe8-624a-481b-b0d6-b322908229b2"
      },
      "source": [
        "contador = 0 #deve estar no escopo global\n",
        "\n",
        "while contador < 10:\n",
        "    contador+= 1 # o incremento do contador deve ser sempre uma das primeiras declarações dentro do bloco\n",
        "    if contador == 1:\n",
        "        print(contador, \"item limpo\")\n",
        "    else:\n",
        "        print(contador, \"itens limpos\")\n",
        "        \n",
        "print(\"Fim do looping while\")"
      ],
      "execution_count": null,
      "outputs": [
        {
          "output_type": "stream",
          "text": [
            "1 item limpo\n",
            "2 itens limpos\n",
            "3 itens limpos\n",
            "4 itens limpos\n",
            "5 itens limpos\n",
            "6 itens limpos\n",
            "7 itens limpos\n",
            "8 itens limpos\n",
            "9 itens limpos\n",
            "10 itens limpos\n",
            "Fim do looping while\n"
          ],
          "name": "stdout"
        }
      ]
    },
    {
      "cell_type": "markdown",
      "metadata": {
        "id": "Iuc-byeGQRGW"
      },
      "source": [
        "Looping infinito (while True), a estrutura de repetição while também pode ser utilizada em como looping infinito, necessariamente esse loop deve ser pausado em algum determinado momento do código. Caso não seja passado, o programa irá continuar executando o programa para sempre."
      ]
    },
    {
      "cell_type": "code",
      "metadata": {
        "colab": {
          "base_uri": "https://localhost:8080/"
        },
        "id": "OJrGfoCRQeH4",
        "outputId": "2a68bdfe-e342-41fb-93b0-f7d4c7dbc1b4"
      },
      "source": [
        "contador = 0\n",
        "\n",
        "while True: #looping infinito\n",
        "    if contador < 10:\n",
        "        contador+= 1\n",
        "        if contador == 1:\n",
        "            print(contador, \"item limpo\")\n",
        "        else:\n",
        "            print(contador, \"itens limpos\")\n",
        "    else:\n",
        "        break #comando para pausar o looping"
      ],
      "execution_count": null,
      "outputs": [
        {
          "output_type": "stream",
          "text": [
            "1 item limpo\n",
            "2 itens limpos\n",
            "3 itens limpos\n",
            "4 itens limpos\n",
            "5 itens limpos\n",
            "6 itens limpos\n",
            "7 itens limpos\n",
            "8 itens limpos\n",
            "9 itens limpos\n",
            "10 itens limpos\n"
          ],
          "name": "stdout"
        }
      ]
    },
    {
      "cell_type": "markdown",
      "metadata": {
        "id": "1CyLxbGmQhRM"
      },
      "source": [
        "Uma aplicação muito comum utilizando o while são os sistemas de verificação. Esses sistemas funcionam com a verificação da entrada de um usúario, caso a entrada que o usuário inseriu seja diferente da condição especificada na estrutura de repetição, o usuário será solicitado uma nova entrada até que aquela entrada seja igual a condição do while."
      ]
    },
    {
      "cell_type": "code",
      "metadata": {
        "colab": {
          "base_uri": "https://localhost:8080/"
        },
        "id": "j7RJKUJlQlcM",
        "outputId": "64ee93dc-0f29-4ca1-9d0c-92571fc550ed"
      },
      "source": [
        "texto = input(\"Digite a sua senha: \")\n",
        "\n",
        "while texto != \"LetsCode\":\n",
        "    texto = input(\"Acesso negado. Digite novamente: \")\n",
        "print(\"Acesso permitido\")"
      ],
      "execution_count": null,
      "outputs": [
        {
          "output_type": "stream",
          "text": [
            "Digite a sua senha: lets code\n",
            "Acesso negado. Digite novamente: LetsCode\n",
            "Acesso permitido\n"
          ],
          "name": "stdout"
        }
      ]
    },
    {
      "cell_type": "code",
      "metadata": {
        "colab": {
          "base_uri": "https://localhost:8080/"
        },
        "id": "qnVjiyZrQnEo",
        "outputId": "43c912dd-cad5-4594-b99f-dedf718157f1"
      },
      "source": [
        "contador = 0\n",
        "\n",
        "while contador < 10:\n",
        "    contador+= 1\n",
        "    if contador == 1:\n",
        "        continue #este comando ignora condição do if acima e pula para próxima linha.\n",
        "    print(contador, \"itens limpos\")\n",
        "    \n",
        "print(\"Fim do looping while\")"
      ],
      "execution_count": null,
      "outputs": [
        {
          "output_type": "stream",
          "text": [
            "2 itens limpos\n",
            "3 itens limpos\n",
            "4 itens limpos\n",
            "5 itens limpos\n",
            "6 itens limpos\n",
            "7 itens limpos\n",
            "8 itens limpos\n",
            "9 itens limpos\n",
            "10 itens limpos\n",
            "Fim do looping while\n"
          ],
          "name": "stdout"
        }
      ]
    },
    {
      "cell_type": "markdown",
      "metadata": {
        "id": "eLg-TxZ-QtC0"
      },
      "source": [
        "###**Exemplos feitos em aula:**"
      ]
    },
    {
      "cell_type": "code",
      "metadata": {
        "colab": {
          "base_uri": "https://localhost:8080/"
        },
        "id": "Sg5S1YZMQ05F",
        "outputId": "ff27e4b3-7ffd-4471-ce97-323b2a264a18"
      },
      "source": [
        "#EXEMPLO 01:\n",
        "\n",
        "horario = int(input('Qual horario é agora? '))\n",
        "\n",
        "# Testando a condição uma única vez com o if:\n",
        "if 0 < horario < 6:\n",
        "    print('Você está no horario da madrugada')\n",
        "else:\n",
        "    print('Você nao está no horario da madrugada')\n",
        "\n",
        "# Testando a condição em loop com o while:\n",
        "while 0 < horario < 6:\n",
        "    print('Você está no horario da madrugada')\n",
        "    horario = horario + 1\n",
        "else:\n",
        "    print('Você nao está no horario da madrugada')"
      ],
      "execution_count": null,
      "outputs": [
        {
          "output_type": "stream",
          "text": [
            "Qual horario é agora? 1\n",
            "Você está no horario da madrugada\n",
            "Você está no horario da madrugada\n",
            "Você está no horario da madrugada\n",
            "Você está no horario da madrugada\n",
            "Você está no horario da madrugada\n",
            "Você está no horario da madrugada\n",
            "Você nao está no horario da madrugada\n"
          ],
          "name": "stdout"
        }
      ]
    },
    {
      "cell_type": "code",
      "metadata": {
        "colab": {
          "base_uri": "https://localhost:8080/"
        },
        "id": "K-CI7kPPQ4Ch",
        "outputId": "a4093b91-db64-4477-baa5-b671669b5a13"
      },
      "source": [
        "#EXEMPLO 02\n",
        "\n",
        "# O while permite continuar decrementando o número de pipocas até chegar em 0:\n",
        "num_pipocas = int(input('Digite o numero de pipocas: '))\n",
        "\n",
        "while num_pipocas > 0:\n",
        "    print('O numero de pipocas é: ', num_pipocas)\n",
        "    num_pipocas = num_pipocas - 1"
      ],
      "execution_count": null,
      "outputs": [
        {
          "output_type": "stream",
          "text": [
            "Digite o numero de pipocas: 10\n",
            "O numero de pipocas é:  10\n",
            "O numero de pipocas é:  9\n",
            "O numero de pipocas é:  8\n",
            "O numero de pipocas é:  7\n",
            "O numero de pipocas é:  6\n",
            "O numero de pipocas é:  5\n",
            "O numero de pipocas é:  4\n",
            "O numero de pipocas é:  3\n",
            "O numero de pipocas é:  2\n",
            "O numero de pipocas é:  1\n"
          ],
          "name": "stdout"
        }
      ]
    },
    {
      "cell_type": "code",
      "metadata": {
        "colab": {
          "base_uri": "https://localhost:8080/"
        },
        "id": "HV6mzRE3Q8dI",
        "outputId": "8de16f54-b05d-4aa6-c394-6d9f317278bc"
      },
      "source": [
        "#EXEMPLO 03\n",
        "\n",
        "horario = int(input('Qual horario é agora? '))\n",
        "\n",
        "while horario > 0 and horario < 6:\n",
        "    print('Você está no horario da madrugada')\n",
        "    horario = horario + 1\n",
        "else:\n",
        "    print('Você nao está no horario da madrugada')"
      ],
      "execution_count": null,
      "outputs": [
        {
          "output_type": "stream",
          "text": [
            "Qual horario é agora? 1\n",
            "Você está no horario da madrugada\n",
            "Você está no horario da madrugada\n",
            "Você está no horario da madrugada\n",
            "Você está no horario da madrugada\n",
            "Você está no horario da madrugada\n",
            "Você nao está no horario da madrugada\n"
          ],
          "name": "stdout"
        }
      ]
    },
    {
      "cell_type": "markdown",
      "metadata": {
        "id": "Y4Al6BhEQ_Wa"
      },
      "source": [
        "###**Exemplos com sistemas de verificação**"
      ]
    },
    {
      "cell_type": "code",
      "metadata": {
        "colab": {
          "base_uri": "https://localhost:8080/"
        },
        "id": "PCzjY7AUREwc",
        "outputId": "7c7a1617-233c-41c3-b5f7-99ca05aa133e"
      },
      "source": [
        "#EXEMPLO 01\n",
        "\n",
        "# o exemplo abaixo não aceita um salário menor do que o mínimo atual:\n",
        "salario = float(input('Digite seu salario: '))\n",
        "while salario < 998.0:\n",
        "    salario = float(input('Entre com um salario MAIOR DO QUE 998.0: '))\n",
        "else:\n",
        "    print('O salario que você entrou foi: ', salario)"
      ],
      "execution_count": null,
      "outputs": [
        {
          "output_type": "stream",
          "text": [
            "Digite seu salario: 800\n",
            "Entre com um salario MAIOR DO QUE 998.0: 500\n",
            "Entre com um salario MAIOR DO QUE 998.0: 1000\n",
            "O salario que você entrou foi:  1000.0\n"
          ],
          "name": "stdout"
        }
      ]
    },
    {
      "cell_type": "code",
      "metadata": {
        "colab": {
          "base_uri": "https://localhost:8080/"
        },
        "id": "y6hGL9xvRGDW",
        "outputId": "ac9618d0-0359-4463-b2ec-310184a7cf0f"
      },
      "source": [
        "#EXEMPLO 02\n",
        "\n",
        "# o exemplo abaixo só sai do loop quando o usuário digitar \"OK\":\n",
        "resposta = input('Digite OK: ')\n",
        "while resposta != 'OK':\n",
        "    resposta = input('Não foi isso que eu pedi, digite OK: ')\n",
        "print('Agora sim!')"
      ],
      "execution_count": null,
      "outputs": [
        {
          "output_type": "stream",
          "text": [
            "Digite OK: ok\n",
            "Não foi isso que eu pedi, digite OK: okay\n",
            "Não foi isso que eu pedi, digite OK: Ok\n",
            "Não foi isso que eu pedi, digite OK: OK\n",
            "Agora sim!\n"
          ],
          "name": "stdout"
        }
      ]
    },
    {
      "cell_type": "markdown",
      "metadata": {
        "id": "rVuqV6PTROIq"
      },
      "source": [
        "###**Exemplo de código utilizando o comando break**"
      ]
    },
    {
      "cell_type": "code",
      "metadata": {
        "colab": {
          "base_uri": "https://localhost:8080/"
        },
        "id": "fYrW2jYkRjG-",
        "outputId": "5ad81099-5933-4a18-9923-f8fd2b908872"
      },
      "source": [
        "while True:\n",
        "    resposta = input('Digite OK: ')\n",
        "    if resposta == 'OK':\n",
        "        break"
      ],
      "execution_count": null,
      "outputs": [
        {
          "output_type": "stream",
          "text": [
            "Digite OK: OK\n"
          ],
          "name": "stdout"
        }
      ]
    },
    {
      "cell_type": "code",
      "metadata": {
        "id": "odMwEKKIRmfz"
      },
      "source": [
        ""
      ],
      "execution_count": null,
      "outputs": []
    }
  ]
}