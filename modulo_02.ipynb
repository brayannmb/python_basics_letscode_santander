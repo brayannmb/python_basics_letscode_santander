{
  "nbformat": 4,
  "nbformat_minor": 0,
  "metadata": {
    "colab": {
      "name": "modulo_02.ipynb",
      "provenance": [],
      "authorship_tag": "ABX9TyOWLpDFijKchfNvRrDsGSey",
      "include_colab_link": true
    },
    "kernelspec": {
      "name": "python3",
      "display_name": "Python 3"
    },
    "language_info": {
      "name": "python"
    }
  },
  "cells": [
    {
      "cell_type": "markdown",
      "metadata": {
        "id": "view-in-github",
        "colab_type": "text"
      },
      "source": [
        "<a href=\"https://colab.research.google.com/github/brayannmb/python_basics_letscode_santander/blob/main/modulo_02.ipynb\" target=\"_parent\"><img src=\"https://colab.research.google.com/assets/colab-badge.svg\" alt=\"Open In Colab\"/></a>"
      ]
    },
    {
      "cell_type": "markdown",
      "metadata": {
        "id": "sh4IUb_9R056"
      },
      "source": [
        "# **Módulo 02 - Santander Coders - Let´s Code - Data Science**"
      ]
    },
    {
      "cell_type": "markdown",
      "metadata": {
        "id": "mdj0f_JdR5sf"
      },
      "source": [
        "## **Listas**\n",
        "\n",
        "Listas são coleções de objetos em Python. Ao invés de declarar 1 variável para cada valor que gostaríamos de armazenar, podemos criar uma lista para armazenar vários valores."
      ]
    },
    {
      "cell_type": "markdown",
      "metadata": {
        "id": "wpBJJx_-R9MO"
      },
      "source": [
        "###**Exemplos - Aula**"
      ]
    },
    {
      "cell_type": "code",
      "metadata": {
        "colab": {
          "base_uri": "https://localhost:8080/"
        },
        "id": "qvCeKTDdSZQw",
        "outputId": "6fffe8af-1bc8-40f2-e13e-3fee96e0242a"
      },
      "source": [
        "# Criando uma lista vazia.\n",
        "listavazia = []\n",
        "\n",
        "# Criando uma lista com alguns valores.\n",
        "numeros = [1, 3, 7, 8, 9]\n",
        "\n",
        "# Listas podem mesclar diferentes tipos de valores.\n",
        "listamista = [14, \"let's code\", 0.1, True]\n",
        "\n",
        "# Acessamos cada elemento da lista através de um índice entre colchetes.\n",
        "# Os índices começam em 0.\n",
        "print(numeros[0])\n",
        "print(numeros[1])\n",
        "print(numeros[2])\n",
        "print(numeros[3])\n",
        "print(numeros[4], \"\\n\")\n"
      ],
      "execution_count": null,
      "outputs": [
        {
          "output_type": "stream",
          "text": [
            "1\n",
            "3\n",
            "7\n",
            "8\n",
            "9 \n",
            "\n"
          ],
          "name": "stdout"
        }
      ]
    },
    {
      "cell_type": "code",
      "metadata": {
        "colab": {
          "base_uri": "https://localhost:8080/"
        },
        "id": "Lqbhh7v1SgBR",
        "outputId": "47e799ac-c4f1-4a76-f210-30aeba8e8949"
      },
      "source": [
        "# Listas são mutáveis: podemos alterar o valor de seus itens.\n",
        "numeros[2] = 5\n",
        "print(numeros, \"\\n\")\n",
        "\n",
        "# Um jeito inteligente de trabalhar com listas é utilizando loops.\n",
        "indice = 0\n",
        "while indice < 5:\n",
        "    print(numeros[indice])\n",
        "    indice = indice + 1"
      ],
      "execution_count": null,
      "outputs": [
        {
          "output_type": "stream",
          "text": [
            "[1, 3, 5, 8, 9] \n",
            "\n",
            "1\n",
            "3\n",
            "5\n",
            "8\n",
            "9\n"
          ],
          "name": "stdout"
        }
      ]
    },
    {
      "cell_type": "markdown",
      "metadata": {
        "id": "Gb1JqgBqS1LW"
      },
      "source": [
        "###**Método Append**\n",
        "\n",
        "Este método é utilizado para acrescentar elementos dentro de uma lista. Com seu funcionamento muito parecido com o método `.extend()`. Entretanto, no método `extend()` é feito uma concatenação do valores."
      ]
    },
    {
      "cell_type": "code",
      "metadata": {
        "colab": {
          "base_uri": "https://localhost:8080/"
        },
        "id": "R1C3pLITT3SQ",
        "outputId": "6adfa7af-e417-4905-e63a-19006bb46099"
      },
      "source": [
        "animais = []\n",
        "resposta = 's'\n",
        "while resposta == 's' or resposta == 'S':\n",
        "    resposta = input('Deseja adicionar um animal à lista (s/n)? ')\n",
        "    if (resposta == 's' or resposta == 'S'):\n",
        "        animal = input('Digite o nome do animal: ')\n",
        "        animais.append(animal) # adiciona o novo animal à lista\n",
        "print(animais)"
      ],
      "execution_count": null,
      "outputs": [
        {
          "output_type": "stream",
          "text": [
            "Deseja adicionar um animal à lista (s/n)? s\n",
            "Digite o nome do animal: Gato\n",
            "Deseja adicionar um animal à lista (s/n)? S\n",
            "Digite o nome do animal: Cachorro\n",
            "Deseja adicionar um animal à lista (s/n)? n\n",
            "['Gato', 'Cachorro']\n"
          ],
          "name": "stdout"
        }
      ]
    },
    {
      "cell_type": "markdown",
      "metadata": {
        "id": "C-sBYesRT7pS"
      },
      "source": [
        "###**Método remove**\n",
        "\n",
        "O método `.remove()` faz uma remoção do valor desejado. Para este método deve-se passar valor do elemento em si, ao contrário do método `.pop()`, que deve ser passado a posição no index do elemento."
      ]
    },
    {
      "cell_type": "code",
      "metadata": {
        "colab": {
          "base_uri": "https://localhost:8080/"
        },
        "id": "ZK7GDkasUchM",
        "outputId": "e6191fb0-abcd-4259-ed0e-d89345986be0"
      },
      "source": [
        "animal = input('Digite o animal a ser deletado da lista: ')\n",
        "animais.remove(animal)\n",
        "print(animais)"
      ],
      "execution_count": null,
      "outputs": [
        {
          "output_type": "stream",
          "text": [
            "Digite o animal a ser deletado da lista: Cachorro\n",
            "['Gato']\n"
          ],
          "name": "stdout"
        }
      ]
    },
    {
      "cell_type": "markdown",
      "metadata": {
        "id": "FC-I2jCBUdTg"
      },
      "source": [
        "###**Método Count**\n",
        "\n",
        "Este método faz a contagem de um elemento dentro de uma lista, retornando a quantidade ocorrências do elemento selecionado."
      ]
    },
    {
      "cell_type": "code",
      "metadata": {
        "colab": {
          "base_uri": "https://localhost:8080/"
        },
        "id": "KkfTnGvcVQ1T",
        "outputId": "81fcca0e-8024-4f82-bce1-fa59f82ad0c6"
      },
      "source": [
        "jogadores = ['Ronaldo', 'Rivaldo', 'Ronaldo', 'Adriano']\n",
        "ronaldos = jogadores.count('Ronaldo')\n",
        "print(jogadores)\n",
        "print('Quantidade de Ronaldos: ', ronaldos)"
      ],
      "execution_count": null,
      "outputs": [
        {
          "output_type": "stream",
          "text": [
            "['Ronaldo', 'Rivaldo', 'Ronaldo', 'Adriano']\n",
            "Quantidade de Ronaldos:  2\n"
          ],
          "name": "stdout"
        }
      ]
    },
    {
      "cell_type": "markdown",
      "metadata": {
        "id": "BEbkcvg9VRP_"
      },
      "source": [
        "###**Método Index**\n",
        "\n",
        "Este método verifica se um elemento está inserido dentro de uma lista e retorna sua posição de index."
      ]
    },
    {
      "cell_type": "code",
      "metadata": {
        "colab": {
          "base_uri": "https://localhost:8080/"
        },
        "id": "3f2W18qPVr8n",
        "outputId": "e8af62b8-3d1b-4aee-a4f9-9851cdb3c4bb"
      },
      "source": [
        "rivaldo = jogadores.index('Rivaldo')\n",
        "print(\"Rivaldo está na posição \", rivaldo)"
      ],
      "execution_count": null,
      "outputs": [
        {
          "output_type": "stream",
          "text": [
            "Rivaldo está na posição  1\n"
          ],
          "name": "stdout"
        }
      ]
    },
    {
      "cell_type": "code",
      "metadata": {
        "id": "E_VbPjHVVuZX"
      },
      "source": [
        "teste = {'A', 'B', 2, '3', True}"
      ],
      "execution_count": null,
      "outputs": []
    },
    {
      "cell_type": "code",
      "metadata": {
        "colab": {
          "base_uri": "https://localhost:8080/"
        },
        "id": "svEmRGeFHl6F",
        "outputId": "90c7d73c-e173-4968-ad58-8d2075e98c88"
      },
      "source": [
        "'A' in teste"
      ],
      "execution_count": null,
      "outputs": [
        {
          "output_type": "execute_result",
          "data": {
            "text/plain": [
              "True"
            ]
          },
          "metadata": {
            "tags": []
          },
          "execution_count": 5
        }
      ]
    },
    {
      "cell_type": "code",
      "metadata": {
        "id": "JEmCYbppHoyH"
      },
      "source": [
        "teste2 = {'A', 'C', 1, '3', False}"
      ],
      "execution_count": null,
      "outputs": []
    },
    {
      "cell_type": "code",
      "metadata": {
        "id": "U16Qc1sPM92w"
      },
      "source": [
        "teste3 = teste & teste2"
      ],
      "execution_count": null,
      "outputs": []
    },
    {
      "cell_type": "code",
      "metadata": {
        "colab": {
          "base_uri": "https://localhost:8080/"
        },
        "id": "gXWTBYNzNC0J",
        "outputId": "6bb2f223-e29c-438f-9d3b-b54bd6b2813d"
      },
      "source": [
        "teste3"
      ],
      "execution_count": null,
      "outputs": [
        {
          "output_type": "execute_result",
          "data": {
            "text/plain": [
              "{1, '3', 'A'}"
            ]
          },
          "metadata": {
            "tags": []
          },
          "execution_count": 11
        }
      ]
    },
    {
      "cell_type": "markdown",
      "metadata": {
        "id": "g4UvQNPPNEWN"
      },
      "source": [
        "##**Tuplas**\n",
        "\n",
        "As tuplas também coleções de objetos em Python igual as listas. A grande diferença entre elas é que as tuplas são imutáveis, ou seja, assim que declarados seus valores não podem ser alterados."
      ]
    },
    {
      "cell_type": "code",
      "metadata": {
        "id": "Q32PqrAo4udd"
      },
      "source": [
        "exemplo = ('Brayan', 22, True, 1.80)"
      ],
      "execution_count": null,
      "outputs": []
    },
    {
      "cell_type": "markdown",
      "metadata": {
        "id": "5KIrAx6s5Dsu"
      },
      "source": [
        "Como podemos ver acima, as tuplas também aceitam todos os tipos primitivos de valores. Para instaciar um objeto do tipo tupla, utilizamos os parentêses, mas também podemos declarar um objeto tuplas sem o uso dos parentêses:"
      ]
    },
    {
      "cell_type": "code",
      "metadata": {
        "colab": {
          "base_uri": "https://localhost:8080/"
        },
        "id": "RBVpB5iq5QYZ",
        "outputId": "24a1bff0-ac6a-46a5-d64f-f564377881c1"
      },
      "source": [
        "exemplo2 = 'Brayan', 22, True, 1.80\n",
        "\n",
        "print(type(exemplo2))"
      ],
      "execution_count": null,
      "outputs": [
        {
          "output_type": "stream",
          "text": [
            "<class 'tuple'>\n"
          ],
          "name": "stdout"
        }
      ]
    },
    {
      "cell_type": "markdown",
      "metadata": {
        "id": "ttET1jlm51_o"
      },
      "source": [
        "Para acessar um elemento que está contido em uma tupla, utilizamos a mesa sintaxe do objeto lista:"
      ]
    },
    {
      "cell_type": "code",
      "metadata": {
        "colab": {
          "base_uri": "https://localhost:8080/"
        },
        "id": "HtLKTGWh6HYC",
        "outputId": "bffc949b-0a77-4fc1-f932-c95de3011e54"
      },
      "source": [
        "print(exemplo2[0])\n",
        "print(exemplo2[1])\n",
        "print(exemplo2[2])\n",
        "print(exemplo2[3])"
      ],
      "execution_count": null,
      "outputs": [
        {
          "output_type": "stream",
          "text": [
            "Brayan\n",
            "22\n",
            "True\n",
            "1.8\n"
          ],
          "name": "stdout"
        }
      ]
    },
    {
      "cell_type": "markdown",
      "metadata": {
        "id": "eGDPRNvM6Kst"
      },
      "source": [
        "A partir de uma lista, podemos transforma-lá em uma tupla:"
      ]
    },
    {
      "cell_type": "code",
      "metadata": {
        "colab": {
          "base_uri": "https://localhost:8080/"
        },
        "id": "79XdepfX6etZ",
        "outputId": "3f3a3bf6-70e2-4027-d932-8fa328298f32"
      },
      "source": [
        "lista_exemplo = ['Brasil', 'Hexacampeão', 2002, True]\n",
        "nova_tupla = tuple(lista_exemplo)\n",
        "\n",
        "print(nova_tupla)\n",
        "print(type(nova_tupla))"
      ],
      "execution_count": null,
      "outputs": [
        {
          "output_type": "stream",
          "text": [
            "('Brasil', 'Hexacampeão', 2002, True)\n",
            "<class 'tuple'>\n"
          ],
          "name": "stdout"
        }
      ]
    },
    {
      "cell_type": "markdown",
      "metadata": {
        "id": "N30RfW-j69pL"
      },
      "source": [
        "Um método pouco conhecido mas bem útil sobre tuplas é descompactamento (*unpacking*), onde o Python descompacta uma tupla atribuindo cada elemento para uma variável diferente:"
      ]
    },
    {
      "cell_type": "code",
      "metadata": {
        "id": "mIMZ5apC8aAA"
      },
      "source": [
        "paises = ('Brasil', 'Argentina', 'México', 'Colombia')"
      ],
      "execution_count": null,
      "outputs": []
    },
    {
      "cell_type": "code",
      "metadata": {
        "colab": {
          "base_uri": "https://localhost:8080/"
        },
        "id": "KAFCSzpc8yAF",
        "outputId": "56e0b7f3-f05c-4a4a-da8b-aafa185ad773"
      },
      "source": [
        "b, a, m, c = paises\n",
        "\n",
        "print(b)\n",
        "print(a)\n",
        "print(m)\n",
        "print(c)"
      ],
      "execution_count": null,
      "outputs": [
        {
          "output_type": "stream",
          "text": [
            "Brasil\n",
            "Argentina\n",
            "México\n",
            "Colombia\n"
          ],
          "name": "stdout"
        }
      ]
    },
    {
      "cell_type": "markdown",
      "metadata": {
        "id": "uS-JSAjC8372"
      },
      "source": [
        "Também podemos visualizar cada elemento de uma lista separadamente, utilizando o simbolo de asterisco: "
      ]
    },
    {
      "cell_type": "code",
      "metadata": {
        "colab": {
          "base_uri": "https://localhost:8080/"
        },
        "id": "iH_3ppUP9yFg",
        "outputId": "ac8356d6-1e8f-476f-e857-6809371f93c8"
      },
      "source": [
        "print(*paises)"
      ],
      "execution_count": null,
      "outputs": [
        {
          "output_type": "stream",
          "text": [
            "Brasil Argentina México Colombia\n"
          ],
          "name": "stdout"
        }
      ]
    },
    {
      "cell_type": "markdown",
      "metadata": {
        "id": "8uvyz6Zq-Q0e"
      },
      "source": [
        "##**Strings**\n",
        "\n",
        "Neste tópico irei abordar um pouco sobre strings, um dos tipos pritimitivos mais usados em diversas manipulações.\n",
        "\n",
        "Para instanciar um objeto do tipo string, basta delimitar o seu valor utilizando aspas simples ou aspas duplas. O Python não diferencia aspas simples de aspas duplas, embora uma boa prática é padronizar entre uma das duas opções. \n",
        "\n"
      ]
    },
    {
      "cell_type": "code",
      "metadata": {
        "id": "BhfnvRqf-wdp",
        "colab": {
          "base_uri": "https://localhost:8080/"
        },
        "outputId": "451a9c11-3bf7-416a-96fb-a27591941330"
      },
      "source": [
        "frase = 'Isso é uma string'\n",
        "\n",
        "print(type(frase))"
      ],
      "execution_count": null,
      "outputs": [
        {
          "output_type": "stream",
          "text": [
            "<class 'str'>\n"
          ],
          "name": "stdout"
        }
      ]
    },
    {
      "cell_type": "markdown",
      "metadata": {
        "id": "3dsTZw--_s2s"
      },
      "source": [
        "Uma boa analogia é se imaginar uma string com uma lista, onde é possível acessar cada elemento utilizando uma posição de index, mas no caso das strings é acessado cada caractere (Lembrando que em Python o index se inicia em zero)."
      ]
    },
    {
      "cell_type": "code",
      "metadata": {
        "colab": {
          "base_uri": "https://localhost:8080/"
        },
        "id": "xZmaRp3r_nxY",
        "outputId": "193722da-4c58-4cfe-860d-994617321198"
      },
      "source": [
        "curso = 'Curso de Python'\n",
        "\n",
        "print(curso[2])\n",
        "print(curso[6])\n",
        "print(curso[3])"
      ],
      "execution_count": null,
      "outputs": [
        {
          "output_type": "stream",
          "text": [
            "r\n",
            "d\n",
            "s\n"
          ],
          "name": "stdout"
        }
      ]
    },
    {
      "cell_type": "markdown",
      "metadata": {
        "id": "NKEChFnZCquZ"
      },
      "source": [
        "**Assim como as tuplas, as strings também são imutáveis.**"
      ]
    },
    {
      "cell_type": "markdown",
      "metadata": {
        "id": "3dbaUdw1AOsX"
      },
      "source": [
        "As listas possuem diversos métodos para manipulação, começando pelo método `.len()` que faz a leitura de quantos caractéres uma string possui:\n",
        "\n",
        "* Os espaços também contados."
      ]
    },
    {
      "cell_type": "code",
      "metadata": {
        "colab": {
          "base_uri": "https://localhost:8080/"
        },
        "id": "zunWKVB-CPMv",
        "outputId": "66dca3ad-9243-49aa-b5b7-bc5c508d4c57"
      },
      "source": [
        "len(curso)"
      ],
      "execution_count": null,
      "outputs": [
        {
          "output_type": "execute_result",
          "data": {
            "text/plain": [
              "15"
            ]
          },
          "metadata": {
            "tags": []
          },
          "execution_count": 17
        }
      ]
    },
    {
      "cell_type": "markdown",
      "metadata": {
        "id": "o28uixnKCQlu"
      },
      "source": [
        "Métodos para transformação de strings: \n",
        "\n",
        "* `.title()` - Método que altera a primeira letra de para maíusculo cada string após um espaço;\n",
        "* `.capitalize()` - Método coloca apenas o primeiro caractére em maísculo\n",
        "* `.upper()` - Método que altera todas os caractéres para maíusculo\n",
        "* `.lower()` - Método que altera todas os caractperes para minúsculo\n",
        "* `.replace()` - Método que faz uma substituição de um caractére"
      ]
    },
    {
      "cell_type": "code",
      "metadata": {
        "colab": {
          "base_uri": "https://localhost:8080/"
        },
        "id": "jpgdATf4Ft7l",
        "outputId": "d768bed5-07db-4b12-e9e7-079ec6f60e52"
      },
      "source": [
        "print(curso.title())\n",
        "print(curso.capitalize())\n",
        "print(curso.upper())\n",
        "print(curso.lower())\n",
        "print(curso.replace('C', 'F'))"
      ],
      "execution_count": null,
      "outputs": [
        {
          "output_type": "stream",
          "text": [
            "Curso De Python\n",
            "Curso de python\n",
            "CURSO DE PYTHON\n",
            "curso de python\n",
            "Furso de Python\n"
          ],
          "name": "stdout"
        }
      ]
    },
    {
      "cell_type": "markdown",
      "metadata": {
        "id": "uX0KeKA5GA1c"
      },
      "source": [
        "Outros métodos para transformação de strings são:\n",
        "\n",
        "* `.split()` - Faz uma separação de cada string separadas por espaço e atribui para uma lista\n",
        "* `.strip()` - Elimina todos os espaços desnecessários do lado esquerdo e direito"
      ]
    },
    {
      "cell_type": "code",
      "metadata": {
        "colab": {
          "base_uri": "https://localhost:8080/"
        },
        "id": "5uskyQhIIjSC",
        "outputId": "9e03711c-9fe2-470c-f644-791e2163a626"
      },
      "source": [
        "print(curso.split()) #por default é feita a separação pelos espaços.\n",
        "\n",
        "curso = '   Curso de Python   '\n",
        "\n",
        "print(curso.strip())"
      ],
      "execution_count": null,
      "outputs": [
        {
          "output_type": "stream",
          "text": [
            "['Curso', 'de', 'Python']\n",
            "Curso de Python\n"
          ],
          "name": "stdout"
        }
      ]
    },
    {
      "cell_type": "markdown",
      "metadata": {
        "id": "prbulOeVIvnC"
      },
      "source": [
        "Também é possível utilizar operadores aritméticos com strings:\n",
        "\n",
        "* Operador de adição: concatena strings\n",
        "* Operador de multiplicação: multiplica as strings\n",
        " "
      ]
    },
    {
      "cell_type": "markdown",
      "metadata": {
        "id": "-GsuxlrpLCBt"
      },
      "source": [
        "Utilização da contra barra:\n"
      ]
    },
    {
      "cell_type": "code",
      "metadata": {
        "colab": {
          "base_uri": "https://localhost:8080/"
        },
        "id": "r_zzTKsmsOHB",
        "outputId": "f8f41d35-22b3-4445-de5f-97a53002475b"
      },
      "source": [
        "# Podemos inserir quebras de linha com '\\n'\n",
        "frase = 'uma\\nFRASE'\n",
        "print(frase)\n",
        "# Podemos inserir tabulação com '\\t'\n",
        "frase = 'uma\\n\\tFRASE'\n",
        "print(frase)\n",
        "# Para conseguir representar a barra '\\', precisamos de 2 barras:\n",
        "frase = 'uma\\\\FRASE'"
      ],
      "execution_count": null,
      "outputs": [
        {
          "output_type": "stream",
          "text": [
            "uma\n",
            "FRASE\n",
            "uma\n",
            "\tFRASE\n"
          ],
          "name": "stdout"
        }
      ]
    },
    {
      "cell_type": "markdown",
      "metadata": {
        "id": "bxkPLW7xsh3a"
      },
      "source": [
        "**Uso de operadores aritméticos com strings**"
      ]
    },
    {
      "cell_type": "code",
      "metadata": {
        "colab": {
          "base_uri": "https://localhost:8080/"
        },
        "id": "sCyT3bETsrfG",
        "outputId": "1e4a5b98-9437-42e2-c29e-d609a0f3a8ee"
      },
      "source": [
        "# Dois operadores aritméticos possuem um comportamento especial em strings:\n",
        "# Operador de soma (+): concatena (une) 2 strings.\n",
        "palavra1 = \"Let's\"\n",
        "palavra2 = \"Code\"\n",
        "palavra3 = palavra1 + palavra2\n",
        "print(palavra3, '\\n')\n",
        "\n",
        "# Operador de multiplicação (*): copia uma string 'n' vezes:\n",
        "palavra = 'uma'\n",
        "trespalavras = 3*palavra\n",
        "print(trespalavras)"
      ],
      "execution_count": null,
      "outputs": [
        {
          "output_type": "stream",
          "text": [
            "Let'sCode \n",
            "\n",
            "umaumauma\n"
          ],
          "name": "stdout"
        }
      ]
    },
    {
      "cell_type": "markdown",
      "metadata": {
        "id": "jAinGXictGlP"
      },
      "source": [
        "**Formatação de strings**\n"
      ]
    },
    {
      "cell_type": "code",
      "metadata": {
        "colab": {
          "base_uri": "https://localhost:8080/"
        },
        "id": "vqXudPv2tNrV",
        "outputId": "6be0a255-c1be-475a-9588-a3f422e1f607"
      },
      "source": [
        "prod = 'chocolate'\n",
        "preco = 3.14\n",
        "print('O produto {} custa {}.'.format(prod, preco))\n",
        "\n",
        "# Na linha acima, prod substituirá o primeiro {}, e preco o segundo {}"
      ],
      "execution_count": null,
      "outputs": [
        {
          "output_type": "stream",
          "text": [
            "O produto chocolate custa 3.14.\n"
          ],
          "name": "stdout"
        }
      ]
    },
    {
      "cell_type": "markdown",
      "metadata": {
        "id": "piKF18-stSHc"
      },
      "source": [
        "**Opções especiais de formatação:**"
      ]
    },
    {
      "cell_type": "code",
      "metadata": {
        "colab": {
          "base_uri": "https://localhost:8080/"
        },
        "id": "Y7bk1-ljtWMu",
        "outputId": "50964286-bd23-4b21-eac6-f7f29d08a4ac"
      },
      "source": [
        "stringoriginal = 'O litro da gasolina custa {:.2f}'\n",
        "'''\n",
        ": indica que passaremos opções\n",
        ".2 indica apenas 2 casas após o ponto decimal\n",
        "f indica que é um float\n",
        "'''\n",
        "preco = 3.14159265\n",
        "stringcompleta = stringoriginal.format(preco)\n",
        "print(stringcompleta)\n",
        "# Saída: O litro da gasolina custa 3.14\n",
        "# O preço sai com apenas 2 casas após a vírgula!\n"
      ],
      "execution_count": null,
      "outputs": [
        {
          "output_type": "stream",
          "text": [
            "O litro da gasolina custa 3.14\n"
          ],
          "name": "stdout"
        }
      ]
    },
    {
      "cell_type": "markdown",
      "metadata": {
        "id": "LEffwLz_tYzH"
      },
      "source": [
        "**Especificando obrigatoriamente a quantidade dígitos em cada campo:**"
      ]
    },
    {
      "cell_type": "code",
      "metadata": {
        "colab": {
          "base_uri": "https://localhost:8080/"
        },
        "id": "7Tc_JJlOtgXT",
        "outputId": "f8ea591e-af32-4545-ba87-c578d94560d1"
      },
      "source": [
        "# Vejamos o exemplo:\n",
        "\n",
        "dia = 1\n",
        "mes = 8\n",
        "ano = 2019\n",
        "data1 = '{}/{}/{}'.format(dia, mes, ano)\n",
        "print(data1, '\\n')\n",
        "# Saída: 1/8/2019\n",
        "# O dia e o mês ocupam apenas 1 espaço\n",
        "\n",
        "\n",
        "data2 = '{:2d}/{:2d}/{:4d}'.format(dia, mes, ano)\n",
        "# A opção 'd' significa que o parâmetro é um número inteiro.\n",
        "print(data2,'\\n')\n",
        "# Saída:  1/ 8/2019\n",
        "# Agora, dia e mês ocupam obrigatoriamente 2 espaços:  1/ 8/2019\n",
        "\n",
        "# Podemos forçar que os espaços em branco sejam preenchidos com o número 0:\n",
        "data3 = '{:02d}/{:02d}/{:04d}'.format(dia, mes, ano)\n",
        "print(data3)\n",
        "# Saída: 01/08/2019\n",
        "# Agora sim a data está no formato usual, dd/mm/aaaa: 01/08/2019"
      ],
      "execution_count": null,
      "outputs": [
        {
          "output_type": "stream",
          "text": [
            "1/8/2019 \n",
            "\n",
            " 1/ 8/2019 \n",
            "\n",
            "01/08/2019\n"
          ],
          "name": "stdout"
        }
      ]
    },
    {
      "cell_type": "markdown",
      "metadata": {
        "id": "f4lQnop8tkhZ"
      },
      "source": [
        "**Maneira mais simples de implementar o método format():**"
      ]
    },
    {
      "cell_type": "code",
      "metadata": {
        "colab": {
          "base_uri": "https://localhost:8080/"
        },
        "id": "Libj3LWItpqM",
        "outputId": "919edce3-aa16-425f-bde6-57a7694dbe3d"
      },
      "source": [
        "# Um modo mais simples de utilizar o format\n",
        "nome = \"Pietro\"\n",
        "profissao = \"professor\"\n",
        "escola = \"Let's Code\"\n",
        "\n",
        "print(f\"{nome} é {profissao} da {escola}.\")\n",
        "# Saída: Pietro é professor da Let's Code."
      ],
      "execution_count": null,
      "outputs": [
        {
          "output_type": "stream",
          "text": [
            "Pietro é professor da Let's Code.\n"
          ],
          "name": "stdout"
        }
      ]
    },
    {
      "cell_type": "markdown",
      "metadata": {
        "id": "gBLhB9KQtrfI"
      },
      "source": [
        "##**Dicionários**\n",
        "\n",
        "Um dicionário é uma coleção, assim como as listas e as tuplas. Porém, enquanto as tuplas eram indexadas por um índice, os dicionários são indexados por chaves. Todo elemento em um dicionário possui uma chave e um valor. Chaves tipicamente são strings, valores podem ser qualquer tipo de dado."
      ]
    },
    {
      "cell_type": "code",
      "metadata": {
        "colab": {
          "base_uri": "https://localhost:8080/"
        },
        "id": "gmYG4iAJt-9e",
        "outputId": "235a4136-faca-408c-bb55-b8ea3d2cb962"
      },
      "source": [
        "dicionario = {}\n",
        "\n",
        "# O dicionário não possui um \"append\".\n",
        "# Adicionamos valores diretamente:\n",
        "\n",
        "dicionario['cat'] = 'gato'\n",
        "dicionario['dog'] = 'cachorro'\n",
        "dicionario['mouse'] = 'rato'\n",
        "\n",
        "print(dicionario,'\\n')\n",
        "print(type(dicionario))"
      ],
      "execution_count": null,
      "outputs": [
        {
          "output_type": "stream",
          "text": [
            "{'cat': 'gato', 'dog': 'cachorro', 'mouse': 'rato'} \n",
            "\n",
            "<class 'dict'>\n"
          ],
          "name": "stdout"
        }
      ]
    },
    {
      "cell_type": "markdown",
      "metadata": {
        "id": "i4i_XhvvuBpg"
      },
      "source": [
        "Assim como as listas, os dicionários os valores também são mutáveis, mas as chaves são imutáveis."
      ]
    },
    {
      "cell_type": "code",
      "metadata": {
        "colab": {
          "base_uri": "https://localhost:8080/"
        },
        "id": "MagSKERpuPT8",
        "outputId": "17f121d6-02fa-4250-e406-ff692646e24a"
      },
      "source": [
        "dicionario['dog'] = 'cão'\n",
        "print(dicionario)"
      ],
      "execution_count": null,
      "outputs": [
        {
          "output_type": "stream",
          "text": [
            "{'cat': 'gato', 'dog': 'cão', 'mouse': 'rato'}\n"
          ],
          "name": "stdout"
        }
      ]
    },
    {
      "cell_type": "code",
      "metadata": {
        "colab": {
          "base_uri": "https://localhost:8080/"
        },
        "id": "8VRZ_pufuRhf",
        "outputId": "1b996a6e-24a3-4415-c704-a3fe8301db2e"
      },
      "source": [
        "# Podemos criar o dicionário diretamente também:\n",
        "dicionario2 = {'Curso': 'Python Pro', 'Linguagem':'Python', 'Módulo':2}\n",
        "print(dicionario2)"
      ],
      "execution_count": null,
      "outputs": [
        {
          "output_type": "stream",
          "text": [
            "{'Curso': 'Python Pro', 'Linguagem': 'Python', 'Módulo': 2}\n"
          ],
          "name": "stdout"
        }
      ]
    },
    {
      "cell_type": "markdown",
      "metadata": {
        "id": "-xv7Tz9ZuYie"
      },
      "source": [
        "**Comando IN para verificação:** "
      ]
    },
    {
      "cell_type": "code",
      "metadata": {
        "colab": {
          "base_uri": "https://localhost:8080/"
        },
        "id": "Su4zABCMueF0",
        "outputId": "9d88b166-197d-430d-b675-f9e64d3991c6"
      },
      "source": [
        "# Podemos utilizar o operador \"in\" para verificar se uma chave existe:\n",
        "if 'cat' in dicionario:\n",
        "    print('cat existe!') # Sim\n",
        "if 'bird' in dicionario:\n",
        "    print('bird existe!') # Não\n",
        "if 'gato' in dicionario:\n",
        "    print('gato existe!') # Não"
      ],
      "execution_count": null,
      "outputs": [
        {
          "output_type": "stream",
          "text": [
            "cat existe!\n"
          ],
          "name": "stdout"
        }
      ]
    },
    {
      "cell_type": "markdown",
      "metadata": {
        "id": "vOzr1yL1ufum"
      },
      "source": [
        "**Além do método IN, podemos utilizar alguns métodos que nos mostram quais chaves e quais valores estão contido dentro de um dicionário!**"
      ]
    },
    {
      "cell_type": "code",
      "metadata": {
        "colab": {
          "base_uri": "https://localhost:8080/"
        },
        "id": "3MfYfFr5umqN",
        "outputId": "6901a4ed-ac47-4ab3-c2d8-57523d271a78"
      },
      "source": [
        "chaves = dicionario.keys()\n",
        "print(chaves)"
      ],
      "execution_count": null,
      "outputs": [
        {
          "output_type": "stream",
          "text": [
            "dict_keys(['cat', 'dog', 'mouse'])\n"
          ],
          "name": "stdout"
        }
      ]
    },
    {
      "cell_type": "code",
      "metadata": {
        "colab": {
          "base_uri": "https://localhost:8080/"
        },
        "id": "8_iQxWkMuqbl",
        "outputId": "0eb4fe87-b2e5-4d15-83cd-f3953ac0b49e"
      },
      "source": [
        "valores = dicionario.values()\n",
        "print(valores)"
      ],
      "execution_count": null,
      "outputs": [
        {
          "output_type": "stream",
          "text": [
            "dict_values(['gato', 'cão', 'rato'])\n"
          ],
          "name": "stdout"
        }
      ]
    },
    {
      "cell_type": "code",
      "metadata": {
        "colab": {
          "base_uri": "https://localhost:8080/"
        },
        "id": "3mo5InZ5u1B8",
        "outputId": "82921b73-2b7b-40a4-9ec6-093e3cb47356"
      },
      "source": [
        "itens = dicionario.items()\n",
        "print(itens)"
      ],
      "execution_count": null,
      "outputs": [
        {
          "output_type": "stream",
          "text": [
            "dict_items([('cat', 'gato'), ('dog', 'cão'), ('mouse', 'rato')])\n"
          ],
          "name": "stdout"
        }
      ]
    },
    {
      "cell_type": "markdown",
      "metadata": {
        "id": "q1jNdjiTu5BN"
      },
      "source": [
        "##**Estrutura FOR**\n",
        "\n",
        "O for é um tipo especial de loop feito para percorrer elementos de uma coleção. Acima vimos exemplos usando um while e um contador para percorrer uma lista. O for elimina a necessidade de inicializarmos um contador, incrementarmos e verificar a condição de parada.\n",
        "\n",
        "O for se repete uma vez para cada elemento da lista. A cada repetição, a variável temporária assume o valor de um elemento da lista, na ordem da lista."
      ]
    },
    {
      "cell_type": "code",
      "metadata": {
        "colab": {
          "base_uri": "https://localhost:8080/"
        },
        "id": "WcaTdY5MvQEC",
        "outputId": "0d0c9852-1699-499e-8e2d-4f29e8781d7c"
      },
      "source": [
        "fib = [1, 1, 2, 3, 5, 8, 13]\n",
        "for elemento in fib:\n",
        "    print(elemento)"
      ],
      "execution_count": null,
      "outputs": [
        {
          "output_type": "stream",
          "text": [
            "1\n",
            "1\n",
            "2\n",
            "3\n",
            "5\n",
            "8\n",
            "13\n"
          ],
          "name": "stdout"
        }
      ]
    },
    {
      "cell_type": "markdown",
      "metadata": {
        "id": "nbT7Q6D_vSbu"
      },
      "source": [
        "**Utilização da função range junto com loop for:**\n",
        "\n",
        "O for pode ser usado, junto com a função range(), para gerar sequências numéricas e contagens. Existem 3 meios de usar o range(): especificando 1, 2 ou 3 parâmetros."
      ]
    },
    {
      "cell_type": "code",
      "metadata": {
        "colab": {
          "base_uri": "https://localhost:8080/"
        },
        "id": "WMYO_60zvYob",
        "outputId": "a98824c8-f875-4ccb-9708-49ee824decff"
      },
      "source": [
        "for numero in range(10):\n",
        "    print(numero)\n"
      ],
      "execution_count": null,
      "outputs": [
        {
          "output_type": "stream",
          "text": [
            "0\n",
            "1\n",
            "2\n",
            "3\n",
            "4\n",
            "5\n",
            "6\n",
            "7\n",
            "8\n",
            "9\n"
          ],
          "name": "stdout"
        }
      ]
    },
    {
      "cell_type": "code",
      "metadata": {
        "colab": {
          "base_uri": "https://localhost:8080/"
        },
        "id": "S8w3ka3wvaY9",
        "outputId": "a370d189-ffd2-4ba5-c61d-ad61c0228c52"
      },
      "source": [
        "for numero in range(1,11):\n",
        "    print(numero)"
      ],
      "execution_count": null,
      "outputs": [
        {
          "output_type": "stream",
          "text": [
            "1\n",
            "2\n",
            "3\n",
            "4\n",
            "5\n",
            "6\n",
            "7\n",
            "8\n",
            "9\n",
            "10\n"
          ],
          "name": "stdout"
        }
      ]
    },
    {
      "cell_type": "code",
      "metadata": {
        "colab": {
          "base_uri": "https://localhost:8080/"
        },
        "id": "b88pR8X8vmfU",
        "outputId": "e6982d0b-cd18-4434-da8e-05d723ea41da"
      },
      "source": [
        "for numero in range(1,20,2):\n",
        "    print(numero)"
      ],
      "execution_count": null,
      "outputs": [
        {
          "output_type": "stream",
          "text": [
            "1\n",
            "3\n",
            "5\n",
            "7\n",
            "9\n",
            "11\n",
            "13\n",
            "15\n",
            "17\n",
            "19\n"
          ],
          "name": "stdout"
        }
      ]
    },
    {
      "cell_type": "code",
      "metadata": {
        "colab": {
          "base_uri": "https://localhost:8080/"
        },
        "id": "mYgzroTqvpZd",
        "outputId": "f2112fbb-f528-413a-c87e-a5c64310ba6f"
      },
      "source": [
        "for num in range (10,0,-1):\n",
        "    print(num)"
      ],
      "execution_count": null,
      "outputs": [
        {
          "output_type": "stream",
          "text": [
            "10\n",
            "9\n",
            "8\n",
            "7\n",
            "6\n",
            "5\n",
            "4\n",
            "3\n",
            "2\n",
            "1\n"
          ],
          "name": "stdout"
        }
      ]
    },
    {
      "cell_type": "code",
      "metadata": {
        "colab": {
          "base_uri": "https://localhost:8080/"
        },
        "id": "i-ef07tUvsIb",
        "outputId": "29dc8fc5-9a50-44c3-830c-6e8244f26c12"
      },
      "source": [
        "nomes_times = ['São Paulo', 'Corinthians', 'Santos', 'Palmeiras']\n",
        "\n",
        "for time in nomes_times:\n",
        "    print(time)"
      ],
      "execution_count": null,
      "outputs": [
        {
          "output_type": "stream",
          "text": [
            "São Paulo\n",
            "Corinthians\n",
            "Santos\n",
            "Palmeiras\n"
          ],
          "name": "stdout"
        }
      ]
    },
    {
      "cell_type": "markdown",
      "metadata": {
        "id": "U8lRrthzvzri"
      },
      "source": [
        "##**Funções**\n",
        "\n",
        "Funções são uma espécie de \"subprograma\". Elas são como pequenos pedacinhos de programa que podem ser chamadas pelo nome. Para criar uma função usamos o comando \"def\" e o nome da função. Elas são um bloco de comando assim como if/elif/else, while e for."
      ]
    },
    {
      "cell_type": "code",
      "metadata": {
        "colab": {
          "base_uri": "https://localhost:8080/"
        },
        "id": "WdvAO43fv6gV",
        "outputId": "30c9953a-4c81-40ae-969e-1214ce817991"
      },
      "source": [
        "def media_aritmetica(nota1, nota2, nota3, nota4):\n",
        "    media = (nota1 + nota2 + nota3 + nota4) / 4\n",
        "    return media\n",
        "\n",
        "media_aritmetica(5, 8, 10, 6)"
      ],
      "execution_count": null,
      "outputs": [
        {
          "output_type": "execute_result",
          "data": {
            "text/plain": [
              "7.25"
            ]
          },
          "metadata": {
            "tags": []
          },
          "execution_count": 25
        }
      ]
    },
    {
      "cell_type": "markdown",
      "metadata": {
        "id": "68I8xTpfv8te"
      },
      "source": [
        "O comando return é o encarregado de retornar o valor calculado dentro da função, assim, o valor retornado pode utilizado no restante do programa, atribuído alguma variável, etc.\n",
        "\n",
        "Assim como as funções nativas do Python, também podemos declarar parâmetros default para nossas funções:"
      ]
    },
    {
      "cell_type": "code",
      "metadata": {
        "colab": {
          "base_uri": "https://localhost:8080/"
        },
        "id": "6fO2yV9XwF8u",
        "outputId": "832de758-49d0-409d-c6d9-454028374bba"
      },
      "source": [
        "def media_arimetica2(nota4,nota1 = 0, nota2 = 0, nota3 = 0):\n",
        "    media = (nota1 + nota2 + nota3 + nota4) / 4\n",
        "    return media\n",
        "\n",
        "media_arimetica2(4)"
      ],
      "execution_count": null,
      "outputs": [
        {
          "output_type": "execute_result",
          "data": {
            "text/plain": [
              "1.0"
            ]
          },
          "metadata": {
            "tags": []
          },
          "execution_count": 26
        }
      ]
    },
    {
      "cell_type": "markdown",
      "metadata": {
        "id": "tHSFpjMgwJ-O"
      },
      "source": [
        "Note acima que somente a nota 4 não tem um valor default definido, assim, obrigatoriamente o usuário terá que inserir um valor de entrada para essa nota.\n",
        "\n",
        "Parâmetros que definimos um valor default devem ser declaradas depois dos paramêtros que não tem seus valores default.\n",
        "\n",
        "A função pode receber vários parâmetros separados por vírgula."
      ]
    },
    {
      "cell_type": "code",
      "metadata": {
        "colab": {
          "base_uri": "https://localhost:8080/"
        },
        "id": "anH2vJvSwPao",
        "outputId": "c91f44ef-942a-4f28-9115-cc6ed9b654a1"
      },
      "source": [
        "def dadosPessoais(nome, idade, cidade):\n",
        "    print(\"Seu nome é {}, você tem {} anos e mora em {}.\".format(nome, idade, cidade))\n",
        "\n",
        "dadosPessoais(\"José\", 30, \"Maceió\")"
      ],
      "execution_count": null,
      "outputs": [
        {
          "output_type": "stream",
          "text": [
            "Seu nome é José, você tem 30 anos e mora em Maceió.\n"
          ],
          "name": "stdout"
        }
      ]
    },
    {
      "cell_type": "markdown",
      "metadata": {
        "id": "Cwsni1oOwgj6"
      },
      "source": [
        "Os parâmetros podem ser passados fora de ordem. Porém, para isso precisamos explicitar qual parâmetro estamos passando, para evitar ambiguidade ou erros de interpretação do Python."
      ]
    },
    {
      "cell_type": "code",
      "metadata": {
        "colab": {
          "base_uri": "https://localhost:8080/"
        },
        "id": "pWdGDAGnwk4V",
        "outputId": "c7af8cf7-e480-4054-fcc1-6cadecb78275"
      },
      "source": [
        "dadosPessoais(idade=56, cidade=\"Florianópolis\", nome=\"Ana\")"
      ],
      "execution_count": null,
      "outputs": [
        {
          "output_type": "stream",
          "text": [
            "Seu nome é Ana, você tem 56 anos e mora em Florianópolis.\n"
          ],
          "name": "stdout"
        }
      ]
    },
    {
      "cell_type": "markdown",
      "metadata": {
        "id": "JiraMXt-woNP"
      },
      "source": [
        "Quando nós não sabemos a quantidade de argumentos que será inserido em uma função, nós devemos utilizar os **args**,pois, cada parâmetro passado a função irá ser adicionado a uma tupla e irá executar o código dentro da função."
      ]
    },
    {
      "cell_type": "code",
      "metadata": {
        "colab": {
          "base_uri": "https://localhost:8080/"
        },
        "id": "hzjak7piwwzD",
        "outputId": "3cb9dccb-3ecd-4246-f38c-2ba2c92fa55f"
      },
      "source": [
        "def somatorio(*args):\n",
        "    print(args, len(args))\n",
        "    soma = sum(args)\n",
        "    return soma\n",
        "somatorio(10, 25, 80, 70, 51, 59, 58)"
      ],
      "execution_count": null,
      "outputs": [
        {
          "output_type": "stream",
          "text": [
            "(10, 25, 80, 70, 51, 59, 58) 7\n"
          ],
          "name": "stdout"
        },
        {
          "output_type": "execute_result",
          "data": {
            "text/plain": [
              "353"
            ]
          },
          "metadata": {
            "tags": []
          },
          "execution_count": 31
        }
      ]
    },
    {
      "cell_type": "markdown",
      "metadata": {
        "id": "CYPyQuehwzRc"
      },
      "source": [
        "Podemos utilizar o operador * na chamada da função também. Na definição, o operador * indica que devemos agrupar itens avulsos em uma coleção. Na chamada, ele indica que uma coleção deve ser expandida em itens avulsos:"
      ]
    },
    {
      "cell_type": "code",
      "metadata": {
        "colab": {
          "base_uri": "https://localhost:8080/"
        },
        "id": "fpPsKlycw2ys",
        "outputId": "3910a8ef-88c2-4fd1-a255-5088b04fbf8a"
      },
      "source": [
        "def piscina(prof, largura, comprimento):\n",
        "    vol = prof*largura*comprimento\n",
        "    return vol\n",
        "\n",
        "lista = [5, 4, 5]\n",
        "\n",
        "volume = piscina(*lista)\n",
        "\n",
        "print('O volume é: ', volume)"
      ],
      "execution_count": null,
      "outputs": [
        {
          "output_type": "stream",
          "text": [
            "O volume é:  100\n"
          ],
          "name": "stdout"
        }
      ]
    },
    {
      "cell_type": "code",
      "metadata": {
        "id": "S1NK4ER7w425"
      },
      "source": [
        ""
      ],
      "execution_count": null,
      "outputs": []
    }
  ]
}