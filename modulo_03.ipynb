{
  "nbformat": 4,
  "nbformat_minor": 0,
  "metadata": {
    "colab": {
      "name": "modulo_03.ipynb",
      "provenance": [],
      "collapsed_sections": [],
      "authorship_tag": "ABX9TyPR5Agoock5vy2OOly/nVn6",
      "include_colab_link": true
    },
    "kernelspec": {
      "name": "python3",
      "display_name": "Python 3"
    },
    "language_info": {
      "name": "python"
    }
  },
  "cells": [
    {
      "cell_type": "markdown",
      "metadata": {
        "id": "view-in-github",
        "colab_type": "text"
      },
      "source": [
        "<a href=\"https://colab.research.google.com/github/brayannmb/python_basics_letscode_santander/blob/main/modulo_03.ipynb\" target=\"_parent\"><img src=\"https://colab.research.google.com/assets/colab-badge.svg\" alt=\"Open In Colab\"/></a>"
      ]
    },
    {
      "cell_type": "markdown",
      "metadata": {
        "id": "T9f9VoFrw-nD"
      },
      "source": [
        "# **Módulo 03 - Santander Coders - Let´s Code - Data Science**"
      ]
    },
    {
      "cell_type": "markdown",
      "metadata": {
        "id": "WyKBxeDhxC-8"
      },
      "source": [
        "##**Manipulando Arquivos**\n",
        "\n",
        "Existe uma maneira mais simples de abrir arquivos e os manipulá-los sem precisar ter que fecha-los explicitamente, pois, este bloco de código já garante que o arquivo será fechado. "
      ]
    },
    {
      "cell_type": "code",
      "metadata": {
        "colab": {
          "base_uri": "https://localhost:8080/",
          "height": 35
        },
        "id": "hI_i4y_GxQtz",
        "outputId": "7f8b5e8f-7c28-4722-bb43-63a25f20e4ee"
      },
      "source": [
        "\"\"\"with open('dados/arquivo.txt', 'r', encoding='utf-8') as arquivo:\n",
        "    texto = arquivo.read()\n",
        "    print(texto)\"\"\""
      ],
      "execution_count": null,
      "outputs": [
        {
          "output_type": "execute_result",
          "data": {
            "application/vnd.google.colaboratory.intrinsic+json": {
              "type": "string"
            },
            "text/plain": [
              "\"with open('dados/arquivo.txt', 'r', encoding='utf-8') as arquivo:\\n    texto = arquivo.read()\\n    print(texto)\""
            ]
          },
          "metadata": {
            "tags": []
          },
          "execution_count": 2
        }
      ]
    },
    {
      "cell_type": "markdown",
      "metadata": {
        "id": "8b2lNau0xWbl"
      },
      "source": [
        "Caso seja necessário, podemos ler linha a linha com o método `readline()`."
      ]
    },
    {
      "cell_type": "code",
      "metadata": {
        "colab": {
          "base_uri": "https://localhost:8080/",
          "height": 35
        },
        "id": "BvGGBbaMxwoj",
        "outputId": "3b517afd-a7d0-4c6c-a01d-46cc700f08ea"
      },
      "source": [
        "'''with open('dados/arquivo.txt', 'r', encoding='utf-8') as arquivolido:\n",
        "   linha = arquivolido.readline()\n",
        "   while linha != '':\n",
        "       print(linha, end='')\n",
        "       linha = arquivolido.readline()'''\n",
        "        \n",
        "# OU\n",
        "\n",
        "'''with open('dados/arquivo.txt', 'r', encoding='utf-8') as arquivolido:\n",
        "    for linha in arquivolido:\n",
        "        print(linha, end='') '''"
      ],
      "execution_count": null,
      "outputs": [
        {
          "output_type": "execute_result",
          "data": {
            "application/vnd.google.colaboratory.intrinsic+json": {
              "type": "string"
            },
            "text/plain": [
              "\"with open('dados/arquivo.txt', 'r', encoding='utf-8') as arquivolido:\\n    for linha in arquivolido:\\n        print(linha, end='') \""
            ]
          },
          "metadata": {
            "tags": []
          },
          "execution_count": 3
        }
      ]
    },
    {
      "cell_type": "markdown",
      "metadata": {
        "id": "wuR-yJosx23u"
      },
      "source": [
        "Também é possível reescrever um arquivo em um novo arquivo:"
      ]
    },
    {
      "cell_type": "code",
      "metadata": {
        "colab": {
          "base_uri": "https://localhost:8080/",
          "height": 52
        },
        "id": "dFIcxzNTx-PH",
        "outputId": "0fafa59d-1bfb-417f-f65c-07c119f7f85c"
      },
      "source": [
        "'''with open('dados/arquivo.txt', 'r', encoding='utf-8') as arquivolido:\n",
        "    with open('copiateste.txt', 'w') as arquivocriado:\n",
        "        for linha in arquivolido:\n",
        "            arquivocriado.write(linha)'''"
      ],
      "execution_count": null,
      "outputs": [
        {
          "output_type": "execute_result",
          "data": {
            "application/vnd.google.colaboratory.intrinsic+json": {
              "type": "string"
            },
            "text/plain": [
              "\"with open('dados/arquivo.txt', 'r', encoding='utf-8') as arquivolido:\\n    with open('copiateste.txt', 'w') as arquivocriado:\\n        for linha in arquivolido:\\n            arquivocriado.write(linha)\""
            ]
          },
          "metadata": {
            "tags": []
          },
          "execution_count": 4
        }
      ]
    },
    {
      "cell_type": "markdown",
      "metadata": {
        "id": "HN22yu0HyB43"
      },
      "source": [
        "##**Arquivos CSV**\n",
        "\n",
        "O formato CSV (Comma Separated Values, ou Valores Separados por Vírgula) é um arquivo de texto que representa dados em forma de tabela de forma simples.\n",
        "\n",
        "Existe um módulo em Python para manipular arquivos CSV que nos ajuda a tratar essas diferenças. Todo programa que for utilizar o módulo CSV deverá importá-lo em seu início através do comando: import csv"
      ]
    },
    {
      "cell_type": "code",
      "metadata": {
        "colab": {
          "base_uri": "https://localhost:8080/",
          "height": 52
        },
        "id": "kvbwQNSIyHgU",
        "outputId": "9badd05a-aef1-402c-e083-daa4a423196c"
      },
      "source": [
        "'''import csv\n",
        "\n",
        "with open('dados/brasil_covid.csv', 'r', encoding='utf-8') as arquivo:\n",
        "    leitor = csv.reader(arquivo)\n",
        "    next(leitor)\n",
        "    for linha in leitor:\n",
        "        if float(linha[3]) > 1:\n",
        "            print(linha)'''"
      ],
      "execution_count": null,
      "outputs": [
        {
          "output_type": "execute_result",
          "data": {
            "application/vnd.google.colaboratory.intrinsic+json": {
              "type": "string"
            },
            "text/plain": [
              "\"import csv\\n\\nwith open('dados/brasil_covid.csv', 'r', encoding='utf-8') as arquivo:\\n    leitor = csv.reader(arquivo)\\n    next(leitor)\\n    for linha in leitor:\\n        if float(linha[3]) > 1:\\n            print(linha)\""
            ]
          },
          "metadata": {
            "tags": []
          },
          "execution_count": 5
        }
      ]
    },
    {
      "cell_type": "code",
      "metadata": {
        "colab": {
          "base_uri": "https://localhost:8080/",
          "height": 52
        },
        "id": "BYsmfAkYyZPX",
        "outputId": "dbeb1182-69d5-43ad-d973-6be0d08ea69f"
      },
      "source": [
        "'''import csv\n",
        "\n",
        "with open('dados/arquivo_teste.csv', 'w', encoding='utf-8', newline='') as arquivo:\n",
        "    escritor = csv.writer(arquivo)\n",
        "    escritor.writerow([['nome', 'pais,', 'telefone', 'genero'], ['Brayan', 'Brasil', '9999-9999', 'Masculino']])'''\n",
        "    "
      ],
      "execution_count": null,
      "outputs": [
        {
          "output_type": "execute_result",
          "data": {
            "application/vnd.google.colaboratory.intrinsic+json": {
              "type": "string"
            },
            "text/plain": [
              "\"import csv\\n\\nwith open('dados/arquivo_teste.csv', 'w', encoding='utf-8', newline='') as arquivo:\\n    escritor = csv.writer(arquivo)\\n    escritor.writerow([['nome', 'pais,', 'telefone', 'genero'], ['Brayan', 'Brasil', '9999-9999', 'Masculino']])\""
            ]
          },
          "metadata": {
            "tags": []
          },
          "execution_count": 6
        }
      ]
    },
    {
      "cell_type": "code",
      "metadata": {
        "colab": {
          "base_uri": "https://localhost:8080/",
          "height": 35
        },
        "id": "XwuCBrIYylIC",
        "outputId": "a2d3873c-c771-40fe-f3d6-eaec32f82a4d"
      },
      "source": [
        "'''with open('dados/arquivo_teste.csv', 'r', encoding='utf-8') as arquivo:\n",
        "    leitor = csv.reader(arquivo)\n",
        "    for linha in leitor:\n",
        "        print(linha)'''"
      ],
      "execution_count": null,
      "outputs": [
        {
          "output_type": "execute_result",
          "data": {
            "application/vnd.google.colaboratory.intrinsic+json": {
              "type": "string"
            },
            "text/plain": [
              "\"with open('dados/arquivo_teste.csv', 'r', encoding='utf-8') as arquivo:\\n    leitor = csv.reader(arquivo)\\n    for linha in leitor:\\n        print(linha)\""
            ]
          },
          "metadata": {
            "tags": []
          },
          "execution_count": 7
        }
      ]
    },
    {
      "cell_type": "code",
      "metadata": {
        "colab": {
          "base_uri": "https://localhost:8080/",
          "height": 86
        },
        "id": "2A5XtU67ypGY",
        "outputId": "e5df6565-1409-432d-df79-670d6a9b6e5a"
      },
      "source": [
        "'''with open('names.csv', 'w', newline='') as csvfile:\n",
        "    chaves = ['first_name', 'last_name'] # definimos o cabeçalho\n",
        "    writer = csv.DictWriter(csvfile, fieldnames=chaves) # especificamos o cabeçalho\n",
        "\n",
        "    writer.writeheader() # escrevemos o cabeçalho\n",
        "    writer.writerow({'first_name': 'Senhor', 'last_name': 'Batata'}) # escrevemos linhas com as chaves e valores\n",
        "    writer.writerow({'first_name': 'Will', 'last_name': 'Smith'})\n",
        "    writer.writerow({'first_name': 'Elon', 'last_name': 'Musk'})'''"
      ],
      "execution_count": null,
      "outputs": [
        {
          "output_type": "execute_result",
          "data": {
            "application/vnd.google.colaboratory.intrinsic+json": {
              "type": "string"
            },
            "text/plain": [
              "\"with open('names.csv', 'w', newline='') as csvfile:\\n    chaves = ['first_name', 'last_name'] # definimos o cabeçalho\\n    writer = csv.DictWriter(csvfile, fieldnames=chaves) # especificamos o cabeçalho\\n\\n    writer.writeheader() # escrevemos o cabeçalho\\n    writer.writerow({'first_name': 'Senhor', 'last_name': 'Batata'}) # escrevemos linhas com as chaves e valores\\n    writer.writerow({'first_name': 'Will', 'last_name': 'Smith'})\\n    writer.writerow({'first_name': 'Elon', 'last_name': 'Musk'})\""
            ]
          },
          "metadata": {
            "tags": []
          },
          "execution_count": 8
        }
      ]
    },
    {
      "cell_type": "code",
      "metadata": {
        "colab": {
          "base_uri": "https://localhost:8080/",
          "height": 35
        },
        "id": "92AoubnNyubs",
        "outputId": "5b79e733-c127-484f-c4c9-1d7c7faed385"
      },
      "source": [
        "'''with open('names.csv', 'r', encoding='utf-8') as arquivo:\n",
        "    leitor = csv.reader(arquivo)\n",
        "    for linha in leitor:\n",
        "        print(linha)'''"
      ],
      "execution_count": null,
      "outputs": [
        {
          "output_type": "execute_result",
          "data": {
            "application/vnd.google.colaboratory.intrinsic+json": {
              "type": "string"
            },
            "text/plain": [
              "\"with open('names.csv', 'r', encoding='utf-8') as arquivo:\\n    leitor = csv.reader(arquivo)\\n    for linha in leitor:\\n        print(linha)\""
            ]
          },
          "metadata": {
            "tags": []
          },
          "execution_count": 9
        }
      ]
    }
  ]
}